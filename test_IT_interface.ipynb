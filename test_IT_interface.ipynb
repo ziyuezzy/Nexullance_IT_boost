{
 "cells": [
  {
   "cell_type": "code",
   "execution_count": null,
   "metadata": {},
   "outputs": [],
   "source": [
    "import sys\n",
    "sys.path.append(\"/users/ziyzhang/topology-research/nexullance/IT_boost/build\")\n",
    "from Nexullance_IT_cpp import Nexullance_IT_interface\n",
    "\n",
    "sys.path.append(\"/users/ziyzhang/topology-research\")\n",
    "import globals as gl\n",
    "import topologies.RRG as RRG\n",
    "import numpy as np"
   ]
  },
  {
   "cell_type": "code",
   "execution_count": null,
   "metadata": {},
   "outputs": [],
   "source": [
    "V = 16\n",
    "D = 5\n",
    "EPR = (D+1)//2\n",
    "_network = RRG.RRGtopo(V, D)\n",
    "ASP, _ = _network.calculate_all_shortest_paths()\n",
    "ECMP_ASP = gl.ECMP(ASP)\n",
    "arcs = _network.generate_graph_arcs()\n",
    "\n",
    "Cap_remote = 10 #GBps\n",
    "Cap_local = 10 #GBps\n",
    "\n",
    "M_EPs = gl.generate_uniform_traffic_pattern(V, EPR)\n",
    "remote_link_flows, local_link_flows = _network.distribute_M_EPs_on_weighted_paths(ECMP_ASP, EPR, M_EPs)\n",
    "max_remote_link_load = np.max(remote_link_flows)/Cap_remote\n",
    "max_local_link_load = np.max(local_link_flows)/Cap_local\n",
    "# adapt the traffic scaling factor to 10x saturation\n",
    "traffic_scaling = 10.0/max(max_local_link_load, max_remote_link_load)\n",
    "M_EPs = traffic_scaling * M_EPs\n",
    "remote_link_flows, local_link_flows = _network.distribute_M_EPs_on_weighted_paths(ECMP_ASP, EPR, M_EPs)\n",
    "M_R = gl.convert_M_EPs_to_M_R(M_EPs, V, EPR)"
   ]
  },
  {
   "cell_type": "code",
   "execution_count": null,
   "metadata": {},
   "outputs": [],
   "source": [
    "nexu_it = Nexullance_IT_interface(V, arcs, 10.0, 10.0, True)\n",
    "# nexu_it.set_parameters(0.1, 7.0)\n",
    "nexu_it.run_IT(M_R, EPR)"
   ]
  },
  {
   "cell_type": "code",
   "execution_count": null,
   "metadata": {},
   "outputs": [],
   "source": []
  },
  {
   "cell_type": "code",
   "execution_count": null,
   "metadata": {},
   "outputs": [],
   "source": [
    "nexu_it_2 = Nexullance_IT_interface(V, arcs, M_R, False)\n",
    "nexu_it_2.set_parameters(1.0, 0.1)\n",
    "nexu_it_2.run()\n",
    "nexu_it_2.get_max_link_load()"
   ]
  },
  {
   "cell_type": "code",
   "execution_count": null,
   "metadata": {},
   "outputs": [],
   "source": [
    "nexu_it_2.get_routing_table()"
   ]
  },
  {
   "cell_type": "code",
   "execution_count": null,
   "metadata": {},
   "outputs": [],
   "source": [
    "nexu_it_2.get_num_attempts_step_2()"
   ]
  },
  {
   "cell_type": "code",
   "execution_count": null,
   "metadata": {},
   "outputs": [],
   "source": []
  }
 ],
 "metadata": {
  "kernelspec": {
   "display_name": "Python 3",
   "language": "python",
   "name": "python3"
  },
  "language_info": {
   "codemirror_mode": {
    "name": "ipython",
    "version": 3
   },
   "file_extension": ".py",
   "mimetype": "text/x-python",
   "name": "python",
   "nbconvert_exporter": "python",
   "pygments_lexer": "ipython3",
   "version": "3.12.3"
  }
 },
 "nbformat": 4,
 "nbformat_minor": 2
}
