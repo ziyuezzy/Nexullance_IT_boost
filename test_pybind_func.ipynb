{
 "cells": [
  {
   "cell_type": "code",
   "execution_count": 1,
   "metadata": {},
   "outputs": [],
   "source": [
    "import sys\n",
    "sys.path.append(\"/users/ziyzhang/topology-research/nexullance/IT_boost/build\")\n",
    "import numpy as np"
   ]
  },
  {
   "cell_type": "code",
   "execution_count": 2,
   "metadata": {},
   "outputs": [],
   "source": [
    "from Nexullance_IT import run_Nexullance_IT, run_Nexullance_IT_with_paths"
   ]
  },
  {
   "cell_type": "code",
   "execution_count": 3,
   "metadata": {},
   "outputs": [
    {
     "data": {
      "text/plain": [
       "(0.0036241240000000003, 8.001090049743652)"
      ]
     },
     "execution_count": 3,
     "metadata": {},
     "output_type": "execute_result"
    }
   ],
   "source": [
    "run_Nexullance_IT_with_paths(\"/users/ziyzhang/topology-research/nexullance/handover_data/RRG_16_5/graph.graphml\", \n",
    "                  \"/users/ziyzhang/topology-research/nexullance/handover_data/RRG_16_5/uniform.txt\",1)"
   ]
  },
  {
   "cell_type": "code",
   "execution_count": 4,
   "metadata": {},
   "outputs": [],
   "source": [
    "sys.path.append(\"/users/ziyzhang/topology-research\")"
   ]
  },
  {
   "cell_type": "code",
   "execution_count": 5,
   "metadata": {},
   "outputs": [],
   "source": [
    "import globals as gl\n",
    "import topologies.RRG as RRG"
   ]
  },
  {
   "cell_type": "code",
   "execution_count": 6,
   "metadata": {},
   "outputs": [],
   "source": [
    "V = 16\n",
    "D = 5\n",
    "EPR = (D+1)//2\n",
    "_network = RRG.RRGtopo(V, D)\n",
    "ASP, _ = _network.calculate_all_shortest_paths()\n",
    "ECMP_ASP = gl.ECMP(ASP)\n",
    "arcs = _network.generate_graph_arcs()\n",
    "\n",
    "Cap_remote = 10 #GBps\n",
    "Cap_local = 10 #GBps"
   ]
  },
  {
   "cell_type": "code",
   "execution_count": 7,
   "metadata": {},
   "outputs": [],
   "source": [
    "M_EPs = gl.generate_uniform_traffic_pattern(V, EPR)\n",
    "remote_link_flows, local_link_flows = _network.distribute_M_EPs_on_weighted_paths(ECMP_ASP, EPR, M_EPs)\n",
    "max_remote_link_load = np.max(remote_link_flows)/Cap_remote\n",
    "max_local_link_load = np.max(local_link_flows)/Cap_local\n",
    "# adapt the traffic scaling factor to 10x saturation\n",
    "traffic_scaling = 10.0/max(max_local_link_load, max_remote_link_load)\n",
    "M_EPs = traffic_scaling * M_EPs\n",
    "remote_link_flows, local_link_flows = _network.distribute_M_EPs_on_weighted_paths(ECMP_ASP, EPR, M_EPs)\n",
    "M_R = gl.convert_M_EPs_to_M_R(M_EPs, V, EPR)"
   ]
  },
  {
   "cell_type": "code",
   "execution_count": 8,
   "metadata": {},
   "outputs": [
    {
     "data": {
      "text/plain": [
       "(0.003516541, 8.000150680541992)"
      ]
     },
     "execution_count": 8,
     "metadata": {},
     "output_type": "execute_result"
    }
   ],
   "source": [
    "run_Nexullance_IT(V, arcs, M_R,1)"
   ]
  },
  {
   "cell_type": "code",
   "execution_count": null,
   "metadata": {},
   "outputs": [],
   "source": []
  }
 ],
 "metadata": {
  "kernelspec": {
   "display_name": "Python 3",
   "language": "python",
   "name": "python3"
  },
  "language_info": {
   "codemirror_mode": {
    "name": "ipython",
    "version": 3
   },
   "file_extension": ".py",
   "mimetype": "text/x-python",
   "name": "python",
   "nbconvert_exporter": "python",
   "pygments_lexer": "ipython3",
   "version": "3.12.3"
  }
 },
 "nbformat": 4,
 "nbformat_minor": 2
}
